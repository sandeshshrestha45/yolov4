{
  "nbformat": 4,
  "nbformat_minor": 0,
  "metadata": {
    "colab": {
      "name": "face_yolov4.ipynb",
      "provenance": [],
      "collapsed_sections": [],
      "toc_visible": true
    },
    "kernelspec": {
      "name": "python3",
      "display_name": "Python 3"
    },
    "accelerator": "GPU"
  },
  "cells": [
    {
      "cell_type": "markdown",
      "metadata": {
        "id": "60OkxETCIadb"
      },
      "source": [
        "#Cloning and Building Darknet"
      ]
    },
    {
      "cell_type": "code",
      "metadata": {
        "id": "n6NTFrkR89Ts"
      },
      "source": [
        "# clone darknet repo\r\n",
        "!git clone https://github.com/AlexeyAB/darknet"
      ],
      "execution_count": null,
      "outputs": []
    },
    {
      "cell_type": "code",
      "metadata": {
        "id": "9x-0oM979LXS"
      },
      "source": [
        "# change makefile to have GPU and OPENCV enabled\r\n",
        "%cd darknet\r\n",
        "!sed -i 's/OPENCV=0/OPENCV=1/' Makefile\r\n",
        "!sed -i 's/GPU=0/GPU=1/' Makefile\r\n",
        "!sed -i 's/CUDNN=0/CUDNN=1/' Makefile\r\n",
        "!sed -i 's/CUDNN_HALF=0/CUDNN_HALF=1/' Makefile"
      ],
      "execution_count": null,
      "outputs": []
    },
    {
      "cell_type": "code",
      "metadata": {
        "id": "xvEOdR709Rms"
      },
      "source": [
        "# verify CUDA\r\n",
        "!/usr/local/cuda/bin/nvcc --version"
      ],
      "execution_count": null,
      "outputs": []
    },
    {
      "cell_type": "code",
      "metadata": {
        "id": "RovNy7319Tkd"
      },
      "source": [
        "# make darknet (builds darknet so that you can then use the darknet executable file to run or train object detectors)\r\n",
        "!make"
      ],
      "execution_count": null,
      "outputs": []
    },
    {
      "cell_type": "markdown",
      "metadata": {
        "id": "8SQVGiA2JrBe"
      },
      "source": [
        "#Define Helper Functions"
      ]
    },
    {
      "cell_type": "code",
      "metadata": {
        "id": "6RAwhJ7q96z1"
      },
      "source": [
        "# define helper functions\r\n",
        "def imShow(path):\r\n",
        "  import cv2\r\n",
        "  import matplotlib.pyplot as plt\r\n",
        "  %matplotlib inline\r\n",
        "\r\n",
        "  image = cv2.imread(path)\r\n",
        "  height, width = image.shape[:2]\r\n",
        "  resized_image = cv2.resize(image,(3*width, 3*height), interpolation = cv2.INTER_CUBIC)\r\n",
        "\r\n",
        "  fig = plt.gcf()\r\n",
        "  fig.set_size_inches(18, 10)\r\n",
        "  plt.axis(\"off\")\r\n",
        "  plt.imshow(cv2.cvtColor(resized_image, cv2.COLOR_BGR2RGB))\r\n",
        "  plt.show()"
      ],
      "execution_count": null,
      "outputs": []
    },
    {
      "cell_type": "code",
      "metadata": {
        "id": "90lhvIZL9-O5"
      },
      "source": [
        "# function to upload files to the cloud vm\r\n",
        "def upload():\r\n",
        "  from google.colab import files\r\n",
        "  uploaded = files.upload() \r\n",
        "  for name, data in uploaded.items():\r\n",
        "    with open(name, 'wb') as f:\r\n",
        "      f.write(data)\r\n",
        "      print ('saved file', name)"
      ],
      "execution_count": null,
      "outputs": []
    },
    {
      "cell_type": "code",
      "metadata": {
        "id": "jQ7KORyu-B_D"
      },
      "source": [
        "# function to download a file  \r\n",
        "def download(path):\r\n",
        "  from google.colab import files\r\n",
        "  files.download(path)"
      ],
      "execution_count": null,
      "outputs": []
    },
    {
      "cell_type": "markdown",
      "metadata": {
        "id": "aGGhwr5rJ1Ol"
      },
      "source": [
        "#Mounting Google Drive to the Notebook"
      ]
    },
    {
      "cell_type": "code",
      "metadata": {
        "id": "STKrpnS8-FGa"
      },
      "source": [
        "%cd ..\r\n",
        "from google.colab import drive\r\n",
        "drive.mount('/content/gdrive')"
      ],
      "execution_count": null,
      "outputs": []
    },
    {
      "cell_type": "code",
      "metadata": {
        "id": "pls7IUE_-OEn"
      },
      "source": [
        "# this creates a symbolic link so that now the path /content/gdrive/My\\ Drive/ is equal to /mydrive\r\n",
        "!ln -s /content/gdrive/My\\ Drive/ /mydrive\r\n",
        "!ls /mydrive"
      ],
      "execution_count": null,
      "outputs": []
    },
    {
      "cell_type": "code",
      "metadata": {
        "id": "C1TO_Dl5-XRy"
      },
      "source": [
        "# cd back into the darknet folder to import dataset and edit configuration files\r\n",
        "%cd darknet"
      ],
      "execution_count": null,
      "outputs": []
    },
    {
      "cell_type": "markdown",
      "metadata": {
        "id": "M8ZMdE6cJ7sk"
      },
      "source": [
        "# Moving Our Custom Datasets Into Our Cloud VM"
      ]
    },
    {
      "cell_type": "code",
      "metadata": {
        "id": "c7lMYzZo-cCe"
      },
      "source": [
        "# this is where my datasets are stored within my Google Drive (I created a yolov4 folder to store all important files for custom training) \r\n",
        "!ls /mydrive/yolov4"
      ],
      "execution_count": null,
      "outputs": []
    },
    {
      "cell_type": "code",
      "metadata": {
        "id": "KzBCD6Cn-t-S"
      },
      "source": [
        "# copy over both datasets into the root directory of the Colab VM (comment out test.zip if you are not using a validation dataset)\r\n",
        "!cp /mydrive/yolov4/obj.zip ../\r\n",
        "!cp /mydrive/yolov4/test.zip ../"
      ],
      "execution_count": null,
      "outputs": []
    },
    {
      "cell_type": "code",
      "metadata": {
        "id": "ISFhBC9f_MMD"
      },
      "source": [
        "# unzip the datasets and their contents so that they are now in /darknet/data/ folder\r\n",
        "!unzip ../obj.zip -d data/\r\n",
        "!unzip ../test.zip -d data/"
      ],
      "execution_count": null,
      "outputs": []
    },
    {
      "cell_type": "markdown",
      "metadata": {
        "id": "m3zaJrMHKGN5"
      },
      "source": [
        "#Configuring Files for Training"
      ]
    },
    {
      "cell_type": "code",
      "metadata": {
        "id": "zFU3qPUT_UgH"
      },
      "source": [
        "# download cfg to google drive and change its name\r\n",
        "!cp cfg/yolov4-custom.cfg /mydrive/yolov4/yolov4-obj.cfg"
      ],
      "execution_count": null,
      "outputs": []
    },
    {
      "cell_type": "code",
      "metadata": {
        "id": "s5I-UkJH_Yac"
      },
      "source": [
        "# to download to local machine (change its name to yolov4-obj.cfg once you download)\r\n",
        "download('cfg/yolov4-custom.cfg')"
      ],
      "execution_count": null,
      "outputs": []
    },
    {
      "cell_type": "code",
      "metadata": {
        "id": "aCK2HpZ5_ccQ"
      },
      "source": [
        "# upload the custom .cfg back to cloud VM from Google Drive\r\n",
        "!cp /mydrive/yolov4/yolov4-obj.cfg ./cfg"
      ],
      "execution_count": null,
      "outputs": []
    },
    {
      "cell_type": "code",
      "metadata": {
        "id": "c4pnCzw6_jO4"
      },
      "source": [
        "# upload the obj.names and obj.data files to cloud VM from Google Drive\r\n",
        "!cp /mydrive/yolov4/obj.names ./data\r\n",
        "!cp /mydrive/yolov4/obj.data  ./data"
      ],
      "execution_count": null,
      "outputs": []
    },
    {
      "cell_type": "code",
      "metadata": {
        "id": "yaFosmO8_nZE"
      },
      "source": [
        "# upload the generate_train.py and generate_test.py script to cloud VM from Google Drive\r\n",
        "!cp /mydrive/yolov4/generate_train.py ./\r\n",
        "!cp /mydrive/yolov4/generate_test.py ./"
      ],
      "execution_count": null,
      "outputs": []
    },
    {
      "cell_type": "code",
      "metadata": {
        "id": "QzJ1XZMKAb2H"
      },
      "source": [
        "!python generate_train.py\r\n",
        "!python generate_test.py"
      ],
      "execution_count": null,
      "outputs": []
    },
    {
      "cell_type": "code",
      "metadata": {
        "id": "vntpeJrMAgMr"
      },
      "source": [
        "# verify that the newly generated train.txt and test.txt can be seen in our darknet/data folder\r\n",
        "!ls data/"
      ],
      "execution_count": null,
      "outputs": []
    },
    {
      "cell_type": "markdown",
      "metadata": {
        "id": "ZEnQYfeDKRVZ"
      },
      "source": [
        "#Download pre-trained weights for the convolutional layers"
      ]
    },
    {
      "cell_type": "code",
      "metadata": {
        "id": "qrxejyO7A9iW"
      },
      "source": [
        "!wget https://github.com/AlexeyAB/darknet/releases/download/darknet_yolo_v3_optimal/yolov4.conv.137"
      ],
      "execution_count": null,
      "outputs": []
    },
    {
      "cell_type": "markdown",
      "metadata": {
        "id": "SFVK0clfKVSl"
      },
      "source": [
        "*Hack to prevent the VM being idle. Hit CTRL+SHIFT+i and Paste the following code in the console "
      ]
    },
    {
      "cell_type": "markdown",
      "metadata": {
        "id": "QtbLZ1DRBEQ_"
      },
      "source": [
        "```\r\n",
        "function ClickConnect(){\r\n",
        "console.log(\"Working\"); \r\n",
        "document\r\n",
        "  .querySelector('#top-toolbar > colab-connect-button')\r\n",
        "  .shadowRoot.querySelector('#connect')\r\n",
        "  .click() \r\n",
        "}\r\n",
        "setInterval(ClickConnect,60000)\r\n",
        "```"
      ]
    },
    {
      "cell_type": "code",
      "metadata": {
        "id": "KoAZJpXwBBW3"
      },
      "source": [
        "# train your custom detector! (uncomment %%capture below if you run into memory issues or your Colab is crashing)\r\n",
        "# %%capture\r\n",
        "!./darknet detector train data/obj.data cfg/yolov4-obj.cfg yolov4.conv.137 -dont_show -map"
      ],
      "execution_count": null,
      "outputs": []
    },
    {
      "cell_type": "code",
      "metadata": {
        "id": "rmzYrGtHF1Y0"
      },
      "source": [
        "# show chart.png of how custom object detector did with training\r\n",
        "imShow('chart.png')"
      ],
      "execution_count": null,
      "outputs": []
    },
    {
      "cell_type": "code",
      "metadata": {
        "id": "ztBhyghgF2Hc"
      },
      "source": [
        "# kick off training from where it last saved\r\n",
        "!./darknet detector train data/obj.data cfg/yolov4-obj.cfg /mydrive/yolov4/backup/yolov4-obj_last.weights -dont_show"
      ],
      "execution_count": null,
      "outputs": []
    },
    {
      "cell_type": "markdown",
      "metadata": {
        "id": "RM_pjh12Kx8u"
      },
      "source": [
        "#Check the Mean Average Precision of Our Model\r\n"
      ]
    },
    {
      "cell_type": "code",
      "metadata": {
        "id": "PkjD-XonF4i7"
      },
      "source": [
        "!./darknet detector map data/obj.data cfg/yolov4-obj.cfg /mydrive/yolov4/backup/yolov4-obj_6000.weights"
      ],
      "execution_count": null,
      "outputs": []
    },
    {
      "cell_type": "markdown",
      "metadata": {
        "id": "2-z9NZKLLBXq"
      },
      "source": [
        "#Run Our Custom Object Detector"
      ]
    },
    {
      "cell_type": "code",
      "metadata": {
        "id": "5T6aNd6LLGUG"
      },
      "source": [
        "# need to set our custom cfg to test mode \r\n",
        "%cd cfg\r\n",
        "!sed -i 's/batch=64/batch=1/' yolov4-obj.cfg\r\n",
        "!sed -i 's/subdivisions=16/subdivisions=1/' yolov4-obj.cfg\r\n",
        "%cd .."
      ],
      "execution_count": null,
      "outputs": []
    },
    {
      "cell_type": "code",
      "metadata": {
        "id": "8Eutp_5hPbUE"
      },
      "source": [
        "# run your custom detector with this command (upload an image to your google drive to test, thresh flag sets accuracy that detection must be in order to show it)\r\n",
        "!./darknet detector test data/obj.data cfg/yolov4-obj.cfg /mydrive/yolov4/backup/yolov4-obj_last.weights /mydrive/images/face.jpg -thresh 0.3\r\n",
        "imShow('predictions.jpg')"
      ],
      "execution_count": null,
      "outputs": []
    },
    {
      "cell_type": "markdown",
      "metadata": {
        "id": "vDRVk68Jc8NI"
      },
      "source": [
        "#Test on google drive videos"
      ]
    },
    {
      "cell_type": "code",
      "metadata": {
        "id": "rovY6b9mQqIA"
      },
      "source": [
        "!./darknet detector demo data/obj.data cfg/yolov4-obj.cfg /mydrive/yolov4/backup/yolov4-obj_best.weights -dont_show /mydrive/images/b.mp4 -i 0 -out_filename results.avi"
      ],
      "execution_count": null,
      "outputs": []
    },
    {
      "cell_type": "markdown",
      "metadata": {
        "id": "r_hGMzzSdJh6"
      },
      "source": [
        "#Upload videos from the local computer to run the test"
      ]
    },
    {
      "cell_type": "code",
      "metadata": {
        "id": "7ETD5t83cTSb"
      },
      "source": [
        "# upload the video of your choosing! \r\n",
        "upload()"
      ],
      "execution_count": null,
      "outputs": []
    },
    {
      "cell_type": "code",
      "metadata": {
        "id": "yZdxSKDGbdAA"
      },
      "source": [
        "!./darknet detector demo data/obj.data cfg/yolov4-obj.cfg /mydrive/yolov4/backup/yolov4-obj_last.weights -dont_show b.mp4 -i 0 -out_filename results.avi"
      ],
      "execution_count": null,
      "outputs": []
    },
    {
      "cell_type": "code",
      "metadata": {
        "id": "MsidsX6zXZ9u"
      },
      "source": [
        "# download the video with detections shown\r\n",
        "download('results.avi')"
      ],
      "execution_count": null,
      "outputs": []
    }
  ]
}